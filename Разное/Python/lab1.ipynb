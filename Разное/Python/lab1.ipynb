{
 "cells": [
  {
   "cell_type": "code",
   "execution_count": 40,
   "metadata": {},
   "outputs": [
    {
     "name": "stdout",
     "output_type": "stream",
     "text": [
      "{'brand': 'Apple', 'model': '5s', 'count': 5, 'used': 0}\n",
      "{'brand': 'Samsung', 'model': 'A50', 'count': 10, 'used': 0}\n",
      "{'brand': 'Xiaomi', 'model': 'Note 8', 'count': 10, 'used': 0}\n",
      "brand = Apple \n",
      "model = 5s \n",
      "count = 5 \n",
      "used = 0\n",
      "brand = Samsung \n",
      "model = A50 \n",
      "count = 10 \n",
      "used = 0\n",
      "brand = Xiaomi \n",
      "model = Note 8 \n",
      "count = 10 \n",
      "used = 0\n"
     ]
    }
   ],
   "source": [
    "class PhoneMarket(object):\n",
    "    def __init__(self, brand, model, count, used):\n",
    "        self.brand = brand\n",
    "        self.model = model\n",
    "        self.count = count\n",
    "        self.used = 0\n",
    "\n",
    "    def show_info(self):\n",
    "        description = \"brand = \" + str(self.brand) + \" \\nmodel = \" + str(self.model) + \" \\ncount = \" + str(self.count) + \" \\nused = \" + str(self.used)\n",
    "        print(description)   \n",
    "    \n",
    "phone1 = PhoneMarket(\"Apple\", \"5s\", 5, 0)\n",
    "phone2 = PhoneMarket(\"Samsung\", \"A50\", 10, 0)\n",
    "phone3 = PhoneMarket(\"Xiaomi\", \"Note 8\", 10, 1)\n",
    "\n",
    "print(phone1.__dict__)\n",
    "print(phone2.__dict__)\n",
    "print(phone3.__dict__)\n",
    "phone1.show_info()\n",
    "phone2.show_info()\n",
    "phone3.show_info()"
   ]
  },
  {
   "cell_type": "code",
   "execution_count": 7,
   "metadata": {},
   "outputs": [
    {
     "name": "stdout",
     "output_type": "stream",
     "text": [
      "Значение поля _PhoneMarket__brand = Samsung\n",
      "Значение поля _PhoneMarket__model = A50\n",
      "Значение поля _PhoneMarket__count = 15\n",
      "Значение поля _PhoneMarket__used = 1\n"
     ]
    },
    {
     "data": {
      "text/plain": [
       "{'_PhoneMarket__brand': 'Samsung',\n",
       " '_PhoneMarket__model': 'A50',\n",
       " '_PhoneMarket__count': 15,\n",
       " '_PhoneMarket__used': 1}"
      ]
     },
     "execution_count": 7,
     "metadata": {},
     "output_type": "execute_result"
    }
   ],
   "source": [
    "class PhoneMarket(object):\n",
    "    def __init__(self, brand, model, count = 0, used = 0):\n",
    "        self.brand = brand\n",
    "        self.model = model\n",
    "        self.count = count\n",
    "        self.used = 0\n",
    "    \n",
    "    @property\n",
    "    def brand(self):\n",
    "        return self.__brand\n",
    "    \n",
    "    @brand.setter\n",
    "    def brand(self, brand):\n",
    "        self.__brand = brand\n",
    "        \n",
    "    @property\n",
    "    def model(self):\n",
    "        return self.__model\n",
    "    \n",
    "    @model.setter\n",
    "    def model(self, model):\n",
    "        self.__model = model\n",
    "        \n",
    "    @property\n",
    "    def count(self):\n",
    "        return self.__count\n",
    "    \n",
    "    @count.setter\n",
    "    def count(self, count):\n",
    "        self.__count = count\n",
    "    \n",
    "    @property\n",
    "    def used(self):\n",
    "        return self.__used\n",
    "    \n",
    "    @used.setter\n",
    "    def used(self, used):\n",
    "        self.__used = used\n",
    "    \n",
    "    @staticmethod\n",
    "    def printMarketInfo(_n):\n",
    "        properties = vars(_n)\n",
    "        for prop in properties:\n",
    "            print(\"Значение поля\", prop, \"=\", properties[prop])\n",
    "        \n",
    "example = PhoneMarket(\"Samsung\", \"A50\")\n",
    "example.count = 15\n",
    "example.used = 1\n",
    "example.printMarketInfo(example)\n",
    "example.__dict__"
   ]
  },
  {
   "cell_type": "code",
   "execution_count": null,
   "metadata": {},
   "outputs": [],
   "source": []
  }
 ],
 "metadata": {
  "kernelspec": {
   "display_name": "Python 3",
   "language": "python",
   "name": "python3"
  },
  "language_info": {
   "codemirror_mode": {
    "name": "ipython",
    "version": 3
   },
   "file_extension": ".py",
   "mimetype": "text/x-python",
   "name": "python",
   "nbconvert_exporter": "python",
   "pygments_lexer": "ipython3",
   "version": "3.7.4"
  }
 },
 "nbformat": 4,
 "nbformat_minor": 2
}
