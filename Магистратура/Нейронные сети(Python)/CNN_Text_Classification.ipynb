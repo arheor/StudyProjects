{
 "cells": [
  {
   "cell_type": "markdown",
   "metadata": {
    "colab_type": "text",
    "id": "rf-Rkgdr4wPq"
   },
   "source": [
    "### Подготовка данных"
   ]
  },
  {
   "cell_type": "code",
   "execution_count": 1,
   "metadata": {},
   "outputs": [],
   "source": [
    "# Подключение пакетов\n",
    "import torch\n",
    "from torchtext import data\n",
    "from torchtext import datasets\n",
    "import torch.nn as nn\n",
    "import torch.nn.functional as F\n",
    "import torch.optim as optim\n",
    "import random\n",
    "import numpy as np\n",
    "import spacy\n",
    "import time\n",
    "import matplotlib.pyplot as plt\n",
    "\n",
    "#Загрузка английского языка\n",
    "nlp = spacy.load('en')"
   ]
  },
  {
   "cell_type": "code",
   "execution_count": 2,
   "metadata": {
    "colab": {},
    "colab_type": "code",
    "id": "UmHvoEZS4wPr"
   },
   "outputs": [],
   "source": [
    "# Инициируем экземпляры класса с помощью токенизатора\n",
    "TEXT = data.Field(tokenize = 'spacy', batch_first = True)\n",
    "LABEL = data.LabelField(dtype = torch.float)\n",
    "\n",
    "# Загружаем дынные с помощью torchtext\n",
    "train_data, test_data = datasets.IMDB.splits(TEXT, LABEL)\n",
    "train_data, valid_data = train_data.split()"
   ]
  },
  {
   "cell_type": "code",
   "execution_count": 3,
   "metadata": {
    "colab": {},
    "colab_type": "code",
    "id": "uiRr2TaX4wPz"
   },
   "outputs": [],
   "source": [
    "# Ограничиваем размер словаря\n",
    "MAX_VOCAB_SIZE = 30_000\n",
    "\n",
    "# Строим словарь\n",
    "TEXT.build_vocab(train_data, \n",
    "                 max_size = MAX_VOCAB_SIZE, \n",
    "                 # Load pretrained embeddings\n",
    "                 vectors = \"glove.6B.100d\", \n",
    "                 # Set unknown vectors\n",
    "                 unk_init = torch.Tensor.normal_)\n",
    "\n",
    "LABEL.build_vocab(train_data)"
   ]
  },
  {
   "cell_type": "code",
   "execution_count": 4,
   "metadata": {
    "colab": {},
    "colab_type": "code",
    "id": "prLYAyhI4wP4"
   },
   "outputs": [
    {
     "name": "stderr",
     "output_type": "stream",
     "text": [
      "C:\\ProgramData\\Anaconda3\\envs\\ML\\lib\\site-packages\\torch\\cuda\\__init__.py:52: UserWarning: CUDA initialization: Found no NVIDIA driver on your system. Please check that you have an NVIDIA GPU and installed a driver from http://www.nvidia.com/Download/index.aspx (Triggered internally at  ..\\c10\\cuda\\CUDAFunctions.cpp:100.)\n",
      "  return torch._C._cuda_getDeviceCount() > 0\n"
     ]
    }
   ],
   "source": [
    "BATCH_SIZE = 64\n",
    "\n",
    "device = torch.device('cuda' if torch.cuda.is_available() else 'cpu')\n",
    "\n",
    "# Создаем итераторы для использования при обучении/оценке/тестировании модели\n",
    "train_iterator, valid_iterator, test_iterator = data.BucketIterator.splits(\n",
    "    (train_data, valid_data, test_data), \n",
    "    batch_size = BATCH_SIZE, \n",
    "    device = device)"
   ]
  },
  {
   "cell_type": "code",
   "execution_count": 5,
   "metadata": {
    "colab": {},
    "colab_type": "code",
    "id": "TLvnIV5s4wQC"
   },
   "outputs": [],
   "source": [
    "class CNN_Text(nn.Module):\n",
    "    def __init__(self, vocab_size, \n",
    "                 vector_size, n_filters, \n",
    "                 filter_sizes, output_dim, \n",
    "                 dropout, pad_idx):\n",
    "        \n",
    "        super().__init__()\n",
    "        # Создаем вложения слов из входных данных     \n",
    "        self.embedding = nn.Embedding(vocab_size, vector_size, \n",
    "                                      padding_idx = pad_idx)\n",
    "        \n",
    "        # Задаем свертки\n",
    "        self.convs = nn.ModuleList([nn.Conv2d(in_channels = 1, \n",
    "                                              out_channels = n_filters, \n",
    "                                              kernel_size = (fs, vector_size)) \n",
    "                                    for fs in filter_sizes])\n",
    "        \n",
    "        # Добавляем полносвязный слой для окончательных прогнозов\n",
    "        self.linear = nn.Linear(len(filter_sizes) * n_filters, output_dim)\n",
    "        \n",
    "        # Отбрасываем некоторые узлы чтобы повысить надежность обучения\n",
    "        self.dropout = nn.Dropout(dropout)\n",
    "        \n",
    "        \n",
    "        \n",
    "    def forward(self, text):  \n",
    "        # Получаем вложения слов и формируем их для сверток\n",
    "        embedded = self.embedding(text).unsqueeze(1)\n",
    "        \n",
    "        # Применяем функцию активации\n",
    "        conved = [F.relu(conv(embedded)).squeeze(3) for conv in self.convs]\n",
    "        \n",
    "        # Cлой субдискретизации(poolling)\n",
    "        pooled = [F.max_pool1d(conv, conv.shape[2]).squeeze(2) for conv in conved]\n",
    "        \n",
    "        # Cлой регуляризации(dropout)\n",
    "        cat = self.dropout(torch.cat(pooled, dim = 1))\n",
    "        return self.linear(cat)"
   ]
  },
  {
   "cell_type": "markdown",
   "metadata": {},
   "source": [
    "## Инициализация предварительно обученной модели"
   ]
  },
  {
   "cell_type": "code",
   "execution_count": 6,
   "metadata": {
    "colab": {},
    "colab_type": "code",
    "id": "SRJUKMJl4wQI"
   },
   "outputs": [],
   "source": [
    "# Размер словаря\n",
    "INPUT_DIM = len(TEXT.vocab)\n",
    "\n",
    "# Размер вектора\n",
    "EMBEDDING_DIM = 100\n",
    "\n",
    "# Число фильтров\n",
    "N_FILTERS = 100\n",
    "\n",
    "# N-граммы, которые мы анализируем с помощью фильтров\n",
    "FILTER_SIZES = [1, 2, 3, 4, 5]\n",
    "\n",
    "# Вывод линейного слоя(вероятность отрицательного отзыва)\n",
    "OUTPUT_DIM = 1\n",
    "\n",
    "# Доля выпадающих значений\n",
    "DROPOUT = 0.5"
   ]
  },
  {
   "cell_type": "code",
   "execution_count": 7,
   "metadata": {},
   "outputs": [],
   "source": [
    "# обнуление начальных весов токенов\n",
    "UNK_IDX = TEXT.vocab.stoi[TEXT.unk_token]\n",
    "\n",
    "PAD_IDX = TEXT.vocab.stoi[TEXT.pad_token]\n",
    "\n",
    "# Инициализируем модель и загружаем предварительно обученные вложения\n",
    "model = CNN_Text(INPUT_DIM, EMBEDDING_DIM, \n",
    "            N_FILTERS, FILTER_SIZES, \n",
    "            OUTPUT_DIM, DROPOUT, PAD_IDX)\n",
    "\n",
    "model.embedding.weight.data.copy_(TEXT.vocab.vectors)\n",
    "\n",
    "model.embedding.weight.data[UNK_IDX] = torch.zeros(EMBEDDING_DIM)\n",
    "model.embedding.weight.data[PAD_IDX] = torch.zeros(EMBEDDING_DIM)\n",
    "model = model.to(device)"
   ]
  },
  {
   "cell_type": "markdown",
   "metadata": {
    "colab_type": "text",
    "id": "-qmSokzB4wQc"
   },
   "source": [
    "## Обучение и оценивание модели"
   ]
  },
  {
   "cell_type": "code",
   "execution_count": 8,
   "metadata": {
    "colab": {},
    "colab_type": "code",
    "id": "1F6-f5aJ4wQh"
   },
   "outputs": [],
   "source": [
    "# Вспомогательные функции\n",
    "def accuracy(preds, y):\n",
    "    correct = (torch.round(torch.sigmoid(preds)) == y).float() \n",
    "    return correct.sum() / len(correct)\n",
    "\n",
    "def epoch_time(start_time, end_time):\n",
    "    elapsed_time = end_time - start_time\n",
    "    elapsed_mins = int(elapsed_time / 60)\n",
    "    elapsed_secs = int(elapsed_time - (elapsed_mins * 60))\n",
    "    return elapsed_mins, elapsed_secs"
   ]
  },
  {
   "cell_type": "code",
   "execution_count": 9,
   "metadata": {
    "colab": {},
    "colab_type": "code",
    "id": "SobuEXbx4wQp"
   },
   "outputs": [],
   "source": [
    "def train(model, iterator, optimizer, criterion):\n",
    "    epoch_loss = 0\n",
    "    epoch_acc = 0\n",
    "    \n",
    "    model.train()\n",
    "    \n",
    "    for batch in iterator:\n",
    "        \n",
    "        optimizer.zero_grad()\n",
    "        \n",
    "        predictions = model(batch.text).squeeze(1)\n",
    "        \n",
    "        loss = criterion(predictions, batch.label)\n",
    "        \n",
    "        acc = accuracy(predictions, batch.label)\n",
    "        \n",
    "        loss.backward()\n",
    "        \n",
    "        optimizer.step()\n",
    "        \n",
    "        # Запись точности и потерь\n",
    "        epoch_loss += loss.item()\n",
    "        epoch_acc += acc.item()\n",
    "        \n",
    "    return epoch_loss / len(iterator), epoch_acc / len(iterator)\n",
    "\n",
    "\n",
    "def evaluate(model, iterator, criterion):\n",
    "    epoch_loss = 0\n",
    "    epoch_acc = 0\n",
    "    \n",
    "    # Отключаем выпадение при оценке\n",
    "    model.eval()\n",
    "    \n",
    "    with torch.no_grad():\n",
    "    \n",
    "        for batch in iterator:\n",
    "\n",
    "            predictions = model(batch.text).squeeze(1)\n",
    "            \n",
    "            loss = criterion(predictions, batch.label)\n",
    "            \n",
    "            acc = accuracy(predictions, batch.label)\n",
    "\n",
    "            epoch_loss += loss.item()\n",
    "            epoch_acc += acc.item()\n",
    "        \n",
    "    return epoch_loss / len(iterator), epoch_acc / len(iterator)"
   ]
  },
  {
   "cell_type": "code",
   "execution_count": 10,
   "metadata": {},
   "outputs": [],
   "source": [
    "# Оптимизатор сети\n",
    "optimizer = optim.Adam(model.parameters())\n",
    "\n",
    "# Функция потерь\n",
    "criterion = nn.BCEWithLogitsLoss()\n",
    "\n",
    "model = model.to(device)\n",
    "criterion = criterion.to(device)"
   ]
  },
  {
   "cell_type": "code",
   "execution_count": 11,
   "metadata": {},
   "outputs": [
    {
     "name": "stdout",
     "output_type": "stream",
     "text": [
      "Epoch:  1 | Epoch Time: 3m 46s\n",
      "\tTrain Loss: 0.656 | Train Acc: 61.14%\n",
      "\t Val. Loss: 0.514 |  Val. Acc: 77.30%\n",
      "Epoch:  2 | Epoch Time: 3m 38s\n",
      "\tTrain Loss: 0.435 | Train Acc: 79.94%\n",
      "\t Val. Loss: 0.371 |  Val. Acc: 83.77%\n",
      "Epoch:  3 | Epoch Time: 3m 38s\n",
      "\tTrain Loss: 0.308 | Train Acc: 86.81%\n",
      "\t Val. Loss: 0.322 |  Val. Acc: 85.82%\n",
      "Epoch:  4 | Epoch Time: 3m 44s\n",
      "\tTrain Loss: 0.224 | Train Acc: 90.95%\n",
      "\t Val. Loss: 0.311 |  Val. Acc: 86.86%\n",
      "Epoch:  5 | Epoch Time: 3m 39s\n",
      "\tTrain Loss: 0.156 | Train Acc: 94.20%\n",
      "\t Val. Loss: 0.324 |  Val. Acc: 87.09%\n",
      "Epoch:  6 | Epoch Time: 3m 42s\n",
      "\tTrain Loss: 0.109 | Train Acc: 96.12%\n",
      "\t Val. Loss: 0.340 |  Val. Acc: 87.13%\n",
      "Epoch:  7 | Epoch Time: 3m 40s\n",
      "\tTrain Loss: 0.074 | Train Acc: 97.58%\n",
      "\t Val. Loss: 0.376 |  Val. Acc: 87.00%\n",
      "Epoch:  8 | Epoch Time: 3m 42s\n",
      "\tTrain Loss: 0.050 | Train Acc: 98.42%\n",
      "\t Val. Loss: 0.400 |  Val. Acc: 87.27%\n",
      "Epoch:  9 | Epoch Time: 3m 38s\n",
      "\tTrain Loss: 0.035 | Train Acc: 98.96%\n",
      "\t Val. Loss: 0.462 |  Val. Acc: 86.81%\n",
      "Epoch: 10 | Epoch Time: 3m 41s\n",
      "\tTrain Loss: 0.025 | Train Acc: 99.39%\n",
      "\t Val. Loss: 0.471 |  Val. Acc: 86.92%\n"
     ]
    }
   ],
   "source": [
    "# Количество циклов обучения\n",
    "N_EPOCHS = 10\n",
    "\n",
    "best_valid_loss = float('inf')\n",
    "val_loss = []\n",
    "val_acc = []\n",
    "tr_loss = []\n",
    "tr_acc = []\n",
    "\n",
    "for epoch in range(N_EPOCHS):\n",
    "    \n",
    "    # Вычисление времени обучения\n",
    "    start_time = time.time()\n",
    "    \n",
    "    # Получаем точность и потери \n",
    "    train_loss, train_acc = train(model, train_iterator, optimizer, criterion)\n",
    "    valid_loss, valid_acc = evaluate(model, valid_iterator, criterion)\n",
    "    \n",
    "    end_time = time.time()\n",
    "    epoch_mins, epoch_secs = epoch_time(start_time, end_time)\n",
    "    \n",
    "    # Сохраняем обучающие метрики\n",
    "    val_loss.append(valid_loss)\n",
    "    val_acc.append(valid_acc)\n",
    "    tr_loss.append(train_loss)\n",
    "    tr_acc.append(train_acc)\n",
    "    \n",
    "    if valid_loss < best_valid_loss:\n",
    "        best_valid_loss = valid_loss\n",
    "        torch.save(model.state_dict(), 'CNN-model.pt')\n",
    "    \n",
    "    print(f'Epoch: {epoch+1:2} | Epoch Time: {epoch_mins}m {epoch_secs}s')\n",
    "    print(f'\\tTrain Loss: {train_loss:.3f} | Train Acc: {train_acc*100:.2f}%')\n",
    "    print(f'\\t Val. Loss: {valid_loss:.3f} |  Val. Acc: {valid_acc*100:.2f}%')"
   ]
  },
  {
   "cell_type": "code",
   "execution_count": 12,
   "metadata": {},
   "outputs": [
    {
     "data": {
      "image/png": "[encoded data removed]",
      "text/plain": [
       "<Figure size 1080x360 with 2 Axes>"
      ]
     },
     "metadata": {
      "needs_background": "light"
     },
     "output_type": "display_data"
    }
   ],
   "source": [
    "# Строим графики точности и потерь\n",
    "fig, ax = plt.subplots(1, 2, figsize=(15,5))\n",
    "ax[0].plot(val_loss, label='Validation loss')\n",
    "ax[0].plot(tr_loss, label='Training loss')\n",
    "ax[0].set_title('Losses')\n",
    "ax[0].set_xlabel('Epoch')\n",
    "ax[0].set_ylabel('Loss')\n",
    "ax[0].legend()\n",
    "ax[1].plot(val_acc, label='Validation accuracy')\n",
    "ax[1].plot(tr_acc, label='Training accuracy')\n",
    "ax[1].set_title('Accuracies')\n",
    "ax[1].set_xlabel('Epoch')\n",
    "ax[1].set_ylabel('Loss')\n",
    "plt.legend()\n",
    "plt.show()"
   ]
  },
  {
   "cell_type": "code",
   "execution_count": 13,
   "metadata": {
    "colab": {},
    "colab_type": "code",
    "id": "yPFKQRti4wRD",
    "outputId": "01d1694f-a0a5-462c-a486-a9eb27934622"
   },
   "outputs": [
    {
     "name": "stdout",
     "output_type": "stream",
     "text": [
      "Test Loss: 0.343 | Test Acc: 85.24%\n"
     ]
    }
   ],
   "source": [
    "# Оцениваем модель на тестовых данных\n",
    "model.load_state_dict(torch.load('CNN-model.pt'))\n",
    "\n",
    "test_loss, test_acc = evaluate(model, test_iterator, criterion)\n",
    "\n",
    "print(f'Test Loss: {test_loss:.3f} | Test Acc: {test_acc*100:.2f}%')"
   ]
  },
  {
   "cell_type": "markdown",
   "metadata": {
    "colab_type": "text",
    "id": "GyU2AeeV4wRH"
   },
   "source": [
    "### Проверяем модель"
   ]
  },
  {
   "cell_type": "code",
   "execution_count": 14,
   "metadata": {
    "colab": {},
    "colab_type": "code",
    "id": "sjP-gqt54wRI"
   },
   "outputs": [],
   "source": [
    "def sentiment(model, sentence, min_len = 5):\n",
    "    model.eval()\n",
    "    tokenized = [tok.text for tok in nlp.tokenizer(sentence)]\n",
    "    if len(tokenized) < min_len:\n",
    "        tokenized += ['<pad>'] * (min_len - len(tokenized))\n",
    "    # Сопоставление слов со вложениями слов\n",
    "    indexed = [TEXT.vocab.stoi[t] for t in tokenized]\n",
    "    tensor = torch.LongTensor(indexed).to(device)\n",
    "    tensor = tensor.unsqueeze(0)\n",
    "    # Получаем прогнозы\n",
    "    prediction = torch.sigmoid(model(tensor))\n",
    "    return prediction.item()"
   ]
  },
  {
   "cell_type": "code",
   "execution_count": 15,
   "metadata": {
    "colab": {},
    "colab_type": "code",
    "id": "yG4QmntM4wRK",
    "outputId": "11b1195b-9887-4de9-e16a-46293d566bdd"
   },
   "outputs": [
    {
     "data": {
      "text/plain": [
       "[0.9771446585655212, 0.35399019718170166, 0.02346784807741642]"
      ]
     },
     "execution_count": 15,
     "metadata": {},
     "output_type": "execute_result"
    }
   ],
   "source": [
    "reviews = ['This is the best movie I have ever watched!', \n",
    "           'This is an okay movie', \n",
    "           'This was a waste of time! I hated this movie.']\n",
    "scores = [sentiment(model, review) for review in reviews]\n",
    "scores"
   ]
  },
  {
   "cell_type": "code",
   "execution_count": 16,
   "metadata": {},
   "outputs": [
    {
     "data": {
      "text/plain": [
       "[0.9113041758537292, 0.7324784398078918, 0.011178537271916866]"
      ]
     },
     "execution_count": 16,
     "metadata": {},
     "output_type": "execute_result"
    }
   ],
   "source": [
    "tricky_reviews = ['This is not the best movie I have ever watched!', \n",
    "           'Some would say it is an okay movie, but I found it terrific.', \n",
    "           'This was a waste of time! I did not like this movie.']\n",
    "scores = [sentiment(model, review) for review in tricky_reviews]\n",
    "scores"
   ]
  },
  {
   "cell_type": "code",
   "execution_count": null,
   "metadata": {},
   "outputs": [],
   "source": []
  }
 ],
 "metadata": {
  "colab": {
   "name": "4 - Convolutional Sentiment Analysis.ipynb",
   "provenance": []
  },
  "kernelspec": {
   "display_name": "Python 3",
   "language": "python",
   "name": "python3"
  },
  "language_info": {
   "codemirror_mode": {
    "name": "ipython",
    "version": 3
   },
   "file_extension": ".py",
   "mimetype": "text/x-python",
   "name": "python",
   "nbconvert_exporter": "python",
   "pygments_lexer": "ipython3",
   "version": "3.7.9"
  }
 },
 "nbformat": 4,
 "nbformat_minor": 4
}
