{
 "cells": [
  {
   "cell_type": "code",
   "execution_count": 8,
   "metadata": {},
   "outputs": [],
   "source": [
    "import pymorphy2\n",
    "morph = pymorphy2.MorphAnalyzer()\n",
    "\n",
    "text = open(\"C:\\Python Data\\dataset_37845_1 (3).txt\", \"r\")\n",
    "data = text.read()\n",
    "\n",
    "data = data.split(\"\\n\")\n",
    "\n",
    "f = open(\"C:\\Python Data\\output.txt\", 'tw', encoding='cp1251')\n",
    "for phrase in data:\n",
    "    words = phrase.split(\" \")\n",
    "    for word in words:\n",
    "        p = morph.parse(word)[0]\n",
    "        print(word, \"{\", p.normal_form, \"=\", p.tag.POS, \"} \", sep=\"\", end=\"\", file=f)\n",
    "    print(\"\", file=f)\n",
    "\n",
    "f.close()"
   ]
  },
  {
   "cell_type": "code",
   "execution_count": null,
   "metadata": {},
   "outputs": [],
   "source": []
  },
  {
   "cell_type": "code",
   "execution_count": null,
   "metadata": {},
   "outputs": [],
   "source": []
  },
  {
   "cell_type": "code",
   "execution_count": null,
   "metadata": {},
   "outputs": [],
   "source": []
  }
 ],
 "metadata": {
  "kernelspec": {
   "display_name": "Python 3",
   "language": "python",
   "name": "python3"
  },
  "language_info": {
   "codemirror_mode": {
    "name": "ipython",
    "version": 3
   },
   "file_extension": ".py",
   "mimetype": "text/x-python",
   "name": "python",
   "nbconvert_exporter": "python",
   "pygments_lexer": "ipython3",
   "version": "3.8.5"
  }
 },
 "nbformat": 4,
 "nbformat_minor": 4
}
