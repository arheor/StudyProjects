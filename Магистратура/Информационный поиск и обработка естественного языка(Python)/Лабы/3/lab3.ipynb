{
 "cells": [
  {
   "cell_type": "code",
   "execution_count": 1,
   "metadata": {},
   "outputs": [],
   "source": [
    "from sklearn.svm import LinearSVC\n",
    "from sklearn.linear_model import LogisticRegression\n",
    "import numpy as np\n",
    "import pandas as pd\n",
    "import os\n",
    "import re"
   ]
  },
  {
   "cell_type": "code",
   "execution_count": 15,
   "metadata": {},
   "outputs": [],
   "source": [
    "reviews_train = []\n",
    "for line in open('./data/text_train.txt', 'r', encoding=\"utf-8\"):\n",
    "    reviews_train.append(line.strip())\n",
    "    \n",
    "target = []\n",
    "for line in open('./data/text_scores.txt', 'r', encoding=\"utf-8\"):\n",
    "    target.append([int(x) for x in line.split()])"
   ]
  },
  {
   "cell_type": "code",
   "execution_count": 16,
   "metadata": {
    "scrolled": true
   },
   "outputs": [
    {
     "data": {
      "text/plain": [
       "'от первой части книги просто оторваться не мог, уж больно захватывающими были похождения бывшего афганца по древней руси от второй части, отрываться мог, но ненадолго :)'"
      ]
     },
     "execution_count": 16,
     "metadata": {},
     "output_type": "execute_result"
    }
   ],
   "source": [
    "reviews_train[5]"
   ]
  },
  {
   "cell_type": "code",
   "execution_count": 17,
   "metadata": {},
   "outputs": [],
   "source": [
    "import re\n",
    "\n",
    "from nltk.corpus import stopwords\n",
    "\n",
    "stop_words = stopwords.words('russian')\n",
    "def remove_stop_words(corpus):\n",
    "    removed_stop_words = []\n",
    "    for review in corpus:\n",
    "        removed_stop_words.append(\n",
    "            ' '.join([word for word in review.split() \n",
    "                      if word not in stop_words])\n",
    "        )\n",
    "    return removed_stop_words\n",
    "\n",
    "REPLACE_NO_SPACE = re.compile(\"(\\.)|(\\;)|(\\:)|(\\!)|(\\')|(\\?)|(\\,)|(\\\")|(\\()|(\\))|(\\[)|(\\])|(\\d+)\")\n",
    "REPLACE_WITH_SPACE = re.compile(\"(<br\\s*/><br\\s*/>)|(\\-)|(\\/)\")\n",
    "NO_SPACE = \"\"\n",
    "SPACE = \" \"\n",
    "\n",
    "def preprocess_reviews(reviews):\n",
    "    \n",
    "    reviews = [REPLACE_NO_SPACE.sub(NO_SPACE, line.lower()) for line in reviews]\n",
    "    reviews = [REPLACE_WITH_SPACE.sub(SPACE, line) for line in reviews]\n",
    "    \n",
    "    return reviews\n",
    "\n",
    "removed_stop_words_train = remove_stop_words(reviews_train)\n",
    "reviews_train_clean = preprocess_reviews(removed_stop_words_train)"
   ]
  },
  {
   "cell_type": "code",
   "execution_count": 18,
   "metadata": {},
   "outputs": [
    {
     "data": {
      "text/plain": [
       "'первой части книги просто оторваться мог больно захватывающими похождения бывшего афганца древней руси второй части отрываться мог ненадолго '"
      ]
     },
     "execution_count": 18,
     "metadata": {},
     "output_type": "execute_result"
    }
   ],
   "source": [
    "reviews_train_clean[5]"
   ]
  },
  {
   "cell_type": "code",
   "execution_count": 19,
   "metadata": {},
   "outputs": [],
   "source": [
    "from sklearn.feature_extraction.text import CountVectorizer\n",
    "\n",
    "cv = CountVectorizer(binary=True)\n",
    "cv.fit(reviews_train_clean)\n",
    "X = cv.transform(reviews_train_clean)"
   ]
  },
  {
   "cell_type": "code",
   "execution_count": 22,
   "metadata": {},
   "outputs": [
    {
     "name": "stderr",
     "output_type": "stream",
     "text": [
      "C:\\Anaconda3\\lib\\site-packages\\sklearn\\utils\\validation.py:72: DataConversionWarning: A column-vector y was passed when a 1d array was expected. Please change the shape of y to (n_samples, ), for example using ravel().\n",
      "  return f(**kwargs)\n"
     ]
    },
    {
     "name": "stdout",
     "output_type": "stream",
     "text": [
      "Accuracy for C=0.01: 2.7961938416354473\n"
     ]
    },
    {
     "name": "stderr",
     "output_type": "stream",
     "text": [
      "C:\\Anaconda3\\lib\\site-packages\\sklearn\\utils\\validation.py:72: DataConversionWarning: A column-vector y was passed when a 1d array was expected. Please change the shape of y to (n_samples, ), for example using ravel().\n",
      "  return f(**kwargs)\n"
     ]
    },
    {
     "name": "stdout",
     "output_type": "stream",
     "text": [
      "Accuracy for C=0.05: 2.593048399085524\n"
     ]
    },
    {
     "name": "stderr",
     "output_type": "stream",
     "text": [
      "C:\\Anaconda3\\lib\\site-packages\\sklearn\\utils\\validation.py:72: DataConversionWarning: A column-vector y was passed when a 1d array was expected. Please change the shape of y to (n_samples, ), for example using ravel().\n",
      "  return f(**kwargs)\n"
     ]
    },
    {
     "name": "stdout",
     "output_type": "stream",
     "text": [
      "Accuracy for C=0.25: 2.393156910860631\n"
     ]
    },
    {
     "name": "stderr",
     "output_type": "stream",
     "text": [
      "C:\\Anaconda3\\lib\\site-packages\\sklearn\\utils\\validation.py:72: DataConversionWarning: A column-vector y was passed when a 1d array was expected. Please change the shape of y to (n_samples, ), for example using ravel().\n",
      "  return f(**kwargs)\n",
      "C:\\Anaconda3\\lib\\site-packages\\sklearn\\linear_model\\_logistic.py:762: ConvergenceWarning: lbfgs failed to converge (status=1):\n",
      "STOP: TOTAL NO. of ITERATIONS REACHED LIMIT.\n",
      "\n",
      "Increase the number of iterations (max_iter) or scale the data as shown in:\n",
      "    https://scikit-learn.org/stable/modules/preprocessing.html\n",
      "Please also refer to the documentation for alternative solver options:\n",
      "    https://scikit-learn.org/stable/modules/linear_model.html#logistic-regression\n",
      "  n_iter_i = _check_optimize_result(\n",
      "C:\\Anaconda3\\lib\\site-packages\\sklearn\\utils\\validation.py:72: DataConversionWarning: A column-vector y was passed when a 1d array was expected. Please change the shape of y to (n_samples, ), for example using ravel().\n",
      "  return f(**kwargs)\n"
     ]
    },
    {
     "name": "stdout",
     "output_type": "stream",
     "text": [
      "Accuracy for C=0.5: 2.337134998240367\n",
      "Accuracy for C=1: 2.2985430167825878\n"
     ]
    },
    {
     "name": "stderr",
     "output_type": "stream",
     "text": [
      "C:\\Anaconda3\\lib\\site-packages\\sklearn\\linear_model\\_logistic.py:762: ConvergenceWarning: lbfgs failed to converge (status=1):\n",
      "STOP: TOTAL NO. of ITERATIONS REACHED LIMIT.\n",
      "\n",
      "Increase the number of iterations (max_iter) or scale the data as shown in:\n",
      "    https://scikit-learn.org/stable/modules/preprocessing.html\n",
      "Please also refer to the documentation for alternative solver options:\n",
      "    https://scikit-learn.org/stable/modules/linear_model.html#logistic-regression\n",
      "  n_iter_i = _check_optimize_result(\n"
     ]
    }
   ],
   "source": [
    "from sklearn.svm import LinearSVC\n",
    "from sklearn.linear_model import LogisticRegression\n",
    "from sklearn.metrics import accuracy_score\n",
    "from sklearn.metrics import mean_squared_error\n",
    "from sklearn.model_selection import train_test_split\n",
    "\n",
    "\n",
    "X_train, X_val, y_train, y_val = train_test_split(\n",
    "    X, target, train_size = 0.5\n",
    ")\n",
    "\n",
    "for c in [0.01, 0.05, 0.25, 0.5, 1]:\n",
    "    \n",
    "    model = LogisticRegression(C=c, max_iter=10000)\n",
    "    model.fit(X_train, y_train)\n",
    "\n",
    "    print (\"Accuracy for C=%s: %s\" \n",
    "           % (c, mean_squared_error(y_val, model.predict(X_val), squared=False)))\n",
    "    "
   ]
  },
  {
   "cell_type": "code",
   "execution_count": 14,
   "metadata": {},
   "outputs": [
    {
     "name": "stderr",
     "output_type": "stream",
     "text": [
      "C:\\Anaconda3\\lib\\site-packages\\sklearn\\utils\\validation.py:72: DataConversionWarning: A column-vector y was passed when a 1d array was expected. Please change the shape of y to (n_samples, ), for example using ravel().\n",
      "  return f(**kwargs)\n"
     ]
    },
    {
     "name": "stdout",
     "output_type": "stream",
     "text": [
      "Accuracy for C=0.01: 2.484069242191127\n"
     ]
    },
    {
     "name": "stderr",
     "output_type": "stream",
     "text": [
      "C:\\Anaconda3\\lib\\site-packages\\sklearn\\utils\\validation.py:72: DataConversionWarning: A column-vector y was passed when a 1d array was expected. Please change the shape of y to (n_samples, ), for example using ravel().\n",
      "  return f(**kwargs)\n"
     ]
    },
    {
     "name": "stdout",
     "output_type": "stream",
     "text": [
      "Accuracy for C=0.05: 2.3241772737895876\n"
     ]
    },
    {
     "name": "stderr",
     "output_type": "stream",
     "text": [
      "C:\\Anaconda3\\lib\\site-packages\\sklearn\\utils\\validation.py:72: DataConversionWarning: A column-vector y was passed when a 1d array was expected. Please change the shape of y to (n_samples, ), for example using ravel().\n",
      "  return f(**kwargs)\n"
     ]
    },
    {
     "name": "stdout",
     "output_type": "stream",
     "text": [
      "Accuracy for C=0.25: 2.293556190722172\n"
     ]
    },
    {
     "name": "stderr",
     "output_type": "stream",
     "text": [
      "C:\\Anaconda3\\lib\\site-packages\\sklearn\\utils\\validation.py:72: DataConversionWarning: A column-vector y was passed when a 1d array was expected. Please change the shape of y to (n_samples, ), for example using ravel().\n",
      "  return f(**kwargs)\n"
     ]
    },
    {
     "name": "stdout",
     "output_type": "stream",
     "text": [
      "Accuracy for C=0.5: 2.327251597915447\n"
     ]
    },
    {
     "name": "stderr",
     "output_type": "stream",
     "text": [
      "C:\\Anaconda3\\lib\\site-packages\\sklearn\\utils\\validation.py:72: DataConversionWarning: A column-vector y was passed when a 1d array was expected. Please change the shape of y to (n_samples, ), for example using ravel().\n",
      "  return f(**kwargs)\n"
     ]
    },
    {
     "name": "stdout",
     "output_type": "stream",
     "text": [
      "Accuracy for C=1: 2.3623081932719954\n"
     ]
    }
   ],
   "source": [
    "\n",
    "for c in [0.01, 0.05, 0.25, 0.5, 1]:\n",
    "    \n",
    "    model = LinearSVC(C=c)\n",
    "    model.fit(X_train, y_train)\n",
    "\n",
    "    print (\"Accuracy for C=%s: %s\" \n",
    "           % (c, mean_squared_error(y_val, model.predict(X_val), squared=False)))\n",
    "    "
   ]
  },
  {
   "cell_type": "code",
   "execution_count": 9,
   "metadata": {},
   "outputs": [
    {
     "name": "stderr",
     "output_type": "stream",
     "text": [
      "C:\\Anaconda3\\lib\\site-packages\\sklearn\\utils\\validation.py:72: DataConversionWarning: A column-vector y was passed when a 1d array was expected. Please change the shape of y to (n_samples, ), for example using ravel().\n",
      "  return f(**kwargs)\n"
     ]
    },
    {
     "data": {
      "text/plain": [
       "LinearSVC(C=0.25)"
      ]
     },
     "execution_count": 9,
     "metadata": {},
     "output_type": "execute_result"
    }
   ],
   "source": [
    "final_model = LinearSVC(C=0.25)\n",
    "final_model.fit(X, target)"
   ]
  },
  {
   "cell_type": "code",
   "execution_count": 10,
   "metadata": {},
   "outputs": [
    {
     "name": "stdout",
     "output_type": "stream",
     "text": [
      "[10, 10, 9, 8, 8, 9, 8, 10, 5, 10, 10, 1, 8, 10, 9, 2, 9, 10, 9, 8, 8, 10, 10, 8, 10, 4, 9, 9, 9, 6, 10, 6, 4, 10, 8, 10, 10, 2, 1, 5, 10, 5, 5, 8, 9, 9, 10, 7, 8, 8, 4, 10, 8, 6, 6, 10, 5, 7, 9, 9, 9, 7, 6, 6, 9, 10, 8, 8, 5, 10, 8, 10, 9, 10, 8, 8, 10, 6, 8, 8, 10, 8, 8, 4, 9, 9, 8, 5, 10, 9, 10, 8, 1, 5, 7, 9, 9, 4, 9, 9, 9, 8, 8, 10, 6, 5, 10, 10, 9, 10, 8, 9, 10, 5, 10, 10, 9, 4, 7, 8, 9, 6, 10, 10, 7, 10, 10, 6, 10, 10, 10, 8, 5, 9, 9, 10, 5, 10, 10, 5, 8, 10, 9, 10, 10, 7, 10, 4, 9, 5, 7, 7, 6, 9, 9, 6, 10, 10, 7, 10, 8, 5, 9, 8, 10, 9, 9, 8, 9, 9, 9, 10, 9, 9, 10, 10, 9, 7, 8, 7, 9, 9, 9, 8, 9, 5, 10, 10, 8, 9, 4, 8, 10, 9, 8, 10, 1, 10, 5, 9, 9, 10, 10, 8, 10, 9, 10, 9, 4, 6, 10, 10, 10, 6, 8, 9, 6, 6, 10, 2, 10, 10, 7, 10, 10, 6, 9, 5, 10, 10, 10, 9, 10, 5, 9, 10, 3, 10, 10, 9, 9, 5, 9, 5, 9, 10, 9, 9, 10, 10, 5, 9, 9, 7, 9, 7, 10, 8, 10, 8, 8, 9, 10, 7, 9, 9, 10, 5, 10, 10, 10, 7, 8, 9, 9, 7, 9, 10, 6, 10, 9, 10, 2, 8, 4, 10, 9, 8, 9, 9, 9, 7, 10, 10, 5, 5, 8, 5, 10, 8, 10, 9, 9, 9, 10, 9, 5, 9, 10, 5, 10, 8, 8, 5, 9, 7, 6, 10, 7, 9, 10, 9, 8, 7, 9, 9, 3, 7, 5, 8, 5, 6, 8, 9, 6, 8, 6, 7, 6, 7, 9, 9, 3, 9, 7, 9, 10, 5, 9, 6, 10, 10, 10, 10, 10, 10, 5, 7, 10, 5, 8, 10, 8, 9, 10, 9, 10, 10, 7, 9, 10, 9, 9, 9, 10, 9, 10, 10, 8, 9, 10, 5, 4, 1, 10, 9, 5, 9, 10, 8, 10, 5, 9, 6, 8, 9, 9, 10, 10, 10, 9, 8, 8, 7, 9, 7, 7, 9, 10, 8, 9, 8, 6, 10, 10, 5, 10, 7, 10, 9, 5, 9, 5, 9, 9, 8, 9, 7, 10, 10, 10, 5, 8, 9, 9, 8, 8, 10, 10, 8, 8, 9, 9, 7, 7, 6, 10, 10, 10, 8, 8, 9, 9, 9, 9, 9, 6, 10, 8, 10, 4, 5, 7, 10, 8, 8, 7, 3, 9, 10, 10, 9, 8, 8, 10, 6, 9, 10, 8, 6, 9, 2, 10, 8, 10, 10, 10, 8, 10, 7, 10, 3, 9, 10, 9, 7, 8, 10, 8, 7, 10, 9, 10, 8, 7, 9, 9, 9, 10, 7, 8, 10, 9, 7, 7, 9, 10, 9, 9, 3, 9, 10, 9, 8, 8, 9, 7, 3, 4, 5, 3, 7, 9, 9, 10, 9, 7, 10, 7, 10, 10, 8, 10, 8, 8, 9, 9, 9, 5, 10, 10, 6, 9, 8, 6, 7, 5, 9, 8, 9, 9, 7, 7, 8, 10, 4, 6, 10, 9, 5, 9, 5, 9, 10, 10, 7, 6, 6, 10, 10, 7, 8, 10, 10, 8, 9, 5, 10, 9, 10, 10, 10, 10, 9, 4, 8, 7, 4, 10, 9, 9, 8, 10, 10, 10, 9, 7, 8, 10, 9, 8, 10, 8, 10, 9, 6, 10, 5, 8, 8, 7, 9, 10, 6, 9, 10, 10, 9, 9, 8, 10, 9, 10, 7, 8, 8, 4, 10, 8, 2, 10, 10, 4, 5, 8, 5, 9, 5, 10, 7, 5, 2, 8, 9, 7, 8, 9, 7, 7, 10, 9, 5, 8, 9, 5, 9, 6, 3, 4, 5, 8, 9, 9, 8, 9, 10, 10, 9, 10, 4, 8, 9, 9, 7, 9, 8, 8, 8, 4, 9, 9, 9, 9, 9, 8, 10, 8, 9, 9, 10, 10, 10, 10, 10, 9, 8, 5, 9, 5, 7, 8, 4, 9, 8, 9, 10, 9, 8, 9, 10, 5, 10, 10, 7, 10, 4, 10, 3, 10, 9, 7, 10, 10, 5, 10, 8, 10, 8, 9, 10, 9, 8, 6, 10, 10, 10, 10, 9, 5, 9, 4, 9, 6, 9, 5, 10, 10, 6, 7, 8, 10, 8, 9, 8, 10, 6, 7, 10, 10, 10, 10, 10, 9, 8, 10, 9, 9, 7, 9, 9, 3, 9, 4, 5, 10, 8, 6, 10, 10, 4, 8, 7, 5, 5, 9, 10, 10, 9, 5, 8, 6, 3, 8, 5, 9, 10, 6, 6, 7, 7, 8, 10, 10, 9, 8, 8, 10, 10, 8, 5, 9, 7, 4, 10, 8, 9, 8, 8, 9, 10, 9, 9, 10, 9, 9, 10, 7, 10, 3, 9, 9, 10, 8, 5, 5, 8, 8, 9, 10, 5, 10, 7, 9, 9, 8, 10, 10, 8, 10, 10, 9, 10, 7, 5, 10, 9, 10, 3, 10, 10, 7, 10, 10, 7, 8, 9, 10, 6, 8, 6, 9, 8, 9, 10, 7, 8, 8, 9, 9, 8, 6, 7, 9, 7, 9, 6, 8, 9, 7, 7, 8, 8, 8, 7, 9, 10, 6, 9, 7, 4, 10, 9, 8, 8, 5, 9, 9, 9, 5, 5, 5, 4, 9, 3, 7, 7, 9, 10, 8, 8, 8, 10, 10, 8, 5, 7, 8, 10, 8, 6, 8, 9, 10, 7, 9, 9, 10, 2, 2, 8, 8, 9, 10, 10, 6, 7, 8, 8, 10, 8, 10, 8, 4, 5, 10, 2, 7, 7, 8, 8, 8, 10, 7, 10, 5, 9, 7, 10, 8, 6, 8, 7, 10, 8, 10, 9, 6, 8, 10, 9, 8, 4, 7, 10, 8, 10, 10, 9, 9, 9]\n"
     ]
    }
   ],
   "source": [
    "texts = []\n",
    "for line in open('./data/for_sentiment.txt', 'r', encoding=\"utf-8\"):\n",
    "    texts.append(line.strip())\n",
    "\n",
    "\n",
    "transtext = cv.transform(texts)\n",
    "\n",
    "result = []\n",
    "for rev in transtext:\n",
    "    #print(final_model.predict(rev))\n",
    "    result.append(final_model.predict(rev)[0])\n",
    "\n",
    "print(result)\n",
    "\n",
    "with open('./Data/sentiment_result.txt', 'w') as f:\n",
    "    for item in result:\n",
    "        f.write(item.astype(str) + '\\n')"
   ]
  }
 ],
 "metadata": {
  "kernelspec": {
   "display_name": "Python 3",
   "language": "python",
   "name": "python3"
  },
  "language_info": {
   "codemirror_mode": {
    "name": "ipython",
    "version": 3
   },
   "file_extension": ".py",
   "mimetype": "text/x-python",
   "name": "python",
   "nbconvert_exporter": "python",
   "pygments_lexer": "ipython3",
   "version": "3.8.5"
  }
 },
 "nbformat": 4,
 "nbformat_minor": 2
}
